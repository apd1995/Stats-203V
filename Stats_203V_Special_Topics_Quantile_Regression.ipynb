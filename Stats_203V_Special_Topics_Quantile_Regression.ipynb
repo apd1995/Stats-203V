{
  "nbformat": 4,
  "nbformat_minor": 0,
  "metadata": {
    "colab": {
      "provenance": [],
      "authorship_tag": "ABX9TyOxng6rdxgnMErwEA5rrUFB",
      "include_colab_link": true
    },
    "kernelspec": {
      "name": "ir",
      "display_name": "R"
    },
    "language_info": {
      "name": "R"
    }
  },
  "cells": [
    {
      "cell_type": "markdown",
      "metadata": {
        "id": "view-in-github",
        "colab_type": "text"
      },
      "source": [
        "<a href=\"https://colab.research.google.com/github/apd1995/Stats-203V-Introduction-to-Regression-Models-and-Analysis-of-Variance/blob/main/Stats_203V_Special_Topics_Quantile_Regression.ipynb\" target=\"_parent\"><img src=\"https://colab.research.google.com/assets/colab-badge.svg\" alt=\"Open In Colab\"/></a>"
      ]
    },
    {
      "cell_type": "markdown",
      "source": [
        "These are notes created by Apratim Dey while he was an instructor of the course Stats 203V on Linear Models and Regression Analysis in Summer, 2023, at Stanford University. If these notes are helpful to you, please cite them appropriately. For any feedback, please open an issue on GitHub.\n",
        "\n"
      ],
      "metadata": {
        "id": "o1D8Hi4UAefQ"
      }
    },
    {
      "cell_type": "markdown",
      "source": [
        "# Quantile Regression\n",
        "\n"
      ],
      "metadata": {
        "id": "u3RbgCBQDVYm"
      }
    },
    {
      "cell_type": "markdown",
      "source": [
        "Let us start with the Wage dataset available in the ISLR package in R. Run the following code chunk to get the dataset up on your working environment and get a sneak peek into the data."
      ],
      "metadata": {
        "id": "6Sew6xFjHNlU"
      }
    },
    {
      "cell_type": "code",
      "execution_count": 1,
      "metadata": {
        "id": "EBUts-J37zcM",
        "outputId": "402d8b76-b13e-4470-8b23-37ec9c5a37a5",
        "colab": {
          "base_uri": "https://localhost:8080/",
          "height": 467
        }
      },
      "outputs": [
        {
          "output_type": "stream",
          "name": "stderr",
          "text": [
            "Installing package into ‘/usr/local/lib/R/site-library’\n",
            "(as ‘lib’ is unspecified)\n",
            "\n"
          ]
        },
        {
          "output_type": "display_data",
          "data": {
            "text/html": [
              "<table class=\"dataframe\">\n",
              "<caption>A data.frame: 6 × 11</caption>\n",
              "<thead>\n",
              "\t<tr><th></th><th scope=col>year</th><th scope=col>age</th><th scope=col>maritl</th><th scope=col>race</th><th scope=col>education</th><th scope=col>region</th><th scope=col>jobclass</th><th scope=col>health</th><th scope=col>health_ins</th><th scope=col>logwage</th><th scope=col>wage</th></tr>\n",
              "\t<tr><th></th><th scope=col>&lt;int&gt;</th><th scope=col>&lt;int&gt;</th><th scope=col>&lt;fct&gt;</th><th scope=col>&lt;fct&gt;</th><th scope=col>&lt;fct&gt;</th><th scope=col>&lt;fct&gt;</th><th scope=col>&lt;fct&gt;</th><th scope=col>&lt;fct&gt;</th><th scope=col>&lt;fct&gt;</th><th scope=col>&lt;dbl&gt;</th><th scope=col>&lt;dbl&gt;</th></tr>\n",
              "</thead>\n",
              "<tbody>\n",
              "\t<tr><th scope=row>231655</th><td>2006</td><td>18</td><td>1. Never Married</td><td>1. White</td><td><span style=white-space:pre-wrap>1. &lt; HS Grad   </span></td><td>2. Middle Atlantic</td><td>1. Industrial </td><td><span style=white-space:pre-wrap>1. &lt;=Good     </span></td><td>2. No </td><td>4.318063</td><td> 75.04315</td></tr>\n",
              "\t<tr><th scope=row>86582</th><td>2004</td><td>24</td><td>1. Never Married</td><td>1. White</td><td>4. College Grad</td><td>2. Middle Atlantic</td><td>2. Information</td><td>2. &gt;=Very Good</td><td>2. No </td><td>4.255273</td><td> 70.47602</td></tr>\n",
              "\t<tr><th scope=row>161300</th><td>2003</td><td>45</td><td><span style=white-space:pre-wrap>2. Married      </span></td><td>1. White</td><td>3. Some College</td><td>2. Middle Atlantic</td><td>1. Industrial </td><td><span style=white-space:pre-wrap>1. &lt;=Good     </span></td><td>1. Yes</td><td>4.875061</td><td>130.98218</td></tr>\n",
              "\t<tr><th scope=row>155159</th><td>2003</td><td>43</td><td><span style=white-space:pre-wrap>2. Married      </span></td><td>3. Asian</td><td>4. College Grad</td><td>2. Middle Atlantic</td><td>2. Information</td><td>2. &gt;=Very Good</td><td>1. Yes</td><td>5.041393</td><td>154.68529</td></tr>\n",
              "\t<tr><th scope=row>11443</th><td>2005</td><td>50</td><td><span style=white-space:pre-wrap>4. Divorced     </span></td><td>1. White</td><td><span style=white-space:pre-wrap>2. HS Grad     </span></td><td>2. Middle Atlantic</td><td>2. Information</td><td><span style=white-space:pre-wrap>1. &lt;=Good     </span></td><td>1. Yes</td><td>4.318063</td><td> 75.04315</td></tr>\n",
              "\t<tr><th scope=row>376662</th><td>2008</td><td>54</td><td><span style=white-space:pre-wrap>2. Married      </span></td><td>1. White</td><td>4. College Grad</td><td>2. Middle Atlantic</td><td>2. Information</td><td>2. &gt;=Very Good</td><td>1. Yes</td><td>4.845098</td><td>127.11574</td></tr>\n",
              "</tbody>\n",
              "</table>\n"
            ],
            "text/markdown": "\nA data.frame: 6 × 11\n\n| <!--/--> | year &lt;int&gt; | age &lt;int&gt; | maritl &lt;fct&gt; | race &lt;fct&gt; | education &lt;fct&gt; | region &lt;fct&gt; | jobclass &lt;fct&gt; | health &lt;fct&gt; | health_ins &lt;fct&gt; | logwage &lt;dbl&gt; | wage &lt;dbl&gt; |\n|---|---|---|---|---|---|---|---|---|---|---|---|\n| 231655 | 2006 | 18 | 1. Never Married | 1. White | 1. &lt; HS Grad    | 2. Middle Atlantic | 1. Industrial  | 1. &lt;=Good      | 2. No  | 4.318063 |  75.04315 |\n| 86582 | 2004 | 24 | 1. Never Married | 1. White | 4. College Grad | 2. Middle Atlantic | 2. Information | 2. &gt;=Very Good | 2. No  | 4.255273 |  70.47602 |\n| 161300 | 2003 | 45 | 2. Married       | 1. White | 3. Some College | 2. Middle Atlantic | 1. Industrial  | 1. &lt;=Good      | 1. Yes | 4.875061 | 130.98218 |\n| 155159 | 2003 | 43 | 2. Married       | 3. Asian | 4. College Grad | 2. Middle Atlantic | 2. Information | 2. &gt;=Very Good | 1. Yes | 5.041393 | 154.68529 |\n| 11443 | 2005 | 50 | 4. Divorced      | 1. White | 2. HS Grad      | 2. Middle Atlantic | 2. Information | 1. &lt;=Good      | 1. Yes | 4.318063 |  75.04315 |\n| 376662 | 2008 | 54 | 2. Married       | 1. White | 4. College Grad | 2. Middle Atlantic | 2. Information | 2. &gt;=Very Good | 1. Yes | 4.845098 | 127.11574 |\n\n",
            "text/latex": "A data.frame: 6 × 11\n\\begin{tabular}{r|lllllllllll}\n  & year & age & maritl & race & education & region & jobclass & health & health\\_ins & logwage & wage\\\\\n  & <int> & <int> & <fct> & <fct> & <fct> & <fct> & <fct> & <fct> & <fct> & <dbl> & <dbl>\\\\\n\\hline\n\t231655 & 2006 & 18 & 1. Never Married & 1. White & 1. < HS Grad    & 2. Middle Atlantic & 1. Industrial  & 1. <=Good      & 2. No  & 4.318063 &  75.04315\\\\\n\t86582 & 2004 & 24 & 1. Never Married & 1. White & 4. College Grad & 2. Middle Atlantic & 2. Information & 2. >=Very Good & 2. No  & 4.255273 &  70.47602\\\\\n\t161300 & 2003 & 45 & 2. Married       & 1. White & 3. Some College & 2. Middle Atlantic & 1. Industrial  & 1. <=Good      & 1. Yes & 4.875061 & 130.98218\\\\\n\t155159 & 2003 & 43 & 2. Married       & 3. Asian & 4. College Grad & 2. Middle Atlantic & 2. Information & 2. >=Very Good & 1. Yes & 5.041393 & 154.68529\\\\\n\t11443 & 2005 & 50 & 4. Divorced      & 1. White & 2. HS Grad      & 2. Middle Atlantic & 2. Information & 1. <=Good      & 1. Yes & 4.318063 &  75.04315\\\\\n\t376662 & 2008 & 54 & 2. Married       & 1. White & 4. College Grad & 2. Middle Atlantic & 2. Information & 2. >=Very Good & 1. Yes & 4.845098 & 127.11574\\\\\n\\end{tabular}\n",
            "text/plain": [
              "       year age maritl           race     education       region            \n",
              "231655 2006 18  1. Never Married 1. White 1. < HS Grad    2. Middle Atlantic\n",
              "86582  2004 24  1. Never Married 1. White 4. College Grad 2. Middle Atlantic\n",
              "161300 2003 45  2. Married       1. White 3. Some College 2. Middle Atlantic\n",
              "155159 2003 43  2. Married       3. Asian 4. College Grad 2. Middle Atlantic\n",
              "11443  2005 50  4. Divorced      1. White 2. HS Grad      2. Middle Atlantic\n",
              "376662 2008 54  2. Married       1. White 4. College Grad 2. Middle Atlantic\n",
              "       jobclass       health         health_ins logwage  wage     \n",
              "231655 1. Industrial  1. <=Good      2. No      4.318063  75.04315\n",
              "86582  2. Information 2. >=Very Good 2. No      4.255273  70.47602\n",
              "161300 1. Industrial  1. <=Good      1. Yes     4.875061 130.98218\n",
              "155159 2. Information 2. >=Very Good 1. Yes     5.041393 154.68529\n",
              "11443  2. Information 1. <=Good      1. Yes     4.318063  75.04315\n",
              "376662 2. Information 2. >=Very Good 1. Yes     4.845098 127.11574"
            ]
          },
          "metadata": {}
        }
      ],
      "source": [
        "install.packages('ISLR')\n",
        "library(ISLR)\n",
        "data(\"Wage\")\n",
        "\n",
        "# Preview the dataset\n",
        "head(Wage)"
      ]
    },
    {
      "cell_type": "markdown",
      "source": [
        "The dataset and variable names are self explanatory. As you can probably guess by the name of the dataset, the goal will be to predict $\\verb|wage|$ (column 11) based on the other variables. And then one can ask relevant questions, such as, whether age has a significant impact on salary, or whether having a college degree really helps.\n",
        "\n",
        "But first, let's look at the variable $\\verb|wage|$.\n"
      ],
      "metadata": {
        "id": "n0AGjyOx2ja0"
      }
    },
    {
      "cell_type": "code",
      "source": [
        "wage = Wage$wage\n",
        "\n",
        "# Plot histogram\n",
        "hist(wage, breaks = 50, xlab = \"wage\", main = \"Histogram of wage\")"
      ],
      "metadata": {
        "id": "Fkw4uk3L3k4b",
        "outputId": "009ac12b-9810-4f3f-85a9-58d59cbab2e9",
        "colab": {
          "base_uri": "https://localhost:8080/",
          "height": 457
        }
      },
      "execution_count": 2,
      "outputs": [
        {
          "output_type": "display_data",
          "data": {
            "text/plain": [
              "Plot with title “Histogram of wage”"
            ],
            "image/png": "[encoded data removed]"
          },
          "metadata": {
            "image/png": {
              "width": 420,
              "height": 420
            }
          }
        }
      ]
    },
    {
      "cell_type": "markdown",
      "source": [
        "We notice something interesting (and typical about wages). While the major chunk of people in the dataset seem to be earning wages below 150, there are a few (rich!) people earning above 250.\n",
        "\n",
        "Let's do a density plot of the data, which will clarify this further."
      ],
      "metadata": {
        "id": "lRSCQdNG3jlR"
      }
    },
    {
      "cell_type": "code",
      "source": [
        "# Plot density of wage\n",
        "plot(density(wage))"
      ],
      "metadata": {
        "id": "X_1hE4rw6JIS",
        "outputId": "f5e59e24-e639-4a0f-b797-bcd767454048",
        "colab": {
          "base_uri": "https://localhost:8080/",
          "height": 457
        }
      },
      "execution_count": 3,
      "outputs": [
        {
          "output_type": "display_data",
          "data": {
            "text/plain": [
              "Plot with title “density(x = wage)”"
            ],
            "image/png": "[encoded data removed]"
          },
          "metadata": {
            "image/png": {
              "width": 420,
              "height": 420
            }
          }
        }
      ]
    },
    {
      "cell_type": "markdown",
      "source": [
        "The $\\verb|wage|$ values have a long tail, and we are looking at a real example of positively skewed data! The following boxplot also certifies this."
      ],
      "metadata": {
        "id": "ZjPFLdH96jFU"
      }
    },
    {
      "cell_type": "code",
      "source": [
        "# Box and whisker plot of wage\n",
        "boxplot(wage, pch = 19)"
      ],
      "metadata": {
        "id": "pWkFXnzn60GN",
        "outputId": "56568aa4-00ad-4141-e5d0-36e7fb06ff06",
        "colab": {
          "base_uri": "https://localhost:8080/",
          "height": 457
        }
      },
      "execution_count": 4,
      "outputs": [
        {
          "output_type": "display_data",
          "data": {
            "text/plain": [
              "plot without title"
            ],
            "image/png": "[encoded data removed]"
          },
          "metadata": {
            "image/png": {
              "width": 420,
              "height": 420
            }
          }
        }
      ]
    },
    {
      "cell_type": "markdown",
      "source": [
        "Let's see what fraction and number of people earn more than 250."
      ],
      "metadata": {
        "id": "PplYbwNO7y1f"
      }
    },
    {
      "cell_type": "code",
      "source": [
        "rich_frac = mean(wage > 250)\n",
        "rich_count = sum(wage > 250)\n",
        "c(round(rich_frac, 3), rich_count)"
      ],
      "metadata": {
        "id": "uWXnlCQV77ia",
        "outputId": "80b0c2a8-670b-4bf5-8a45-0af262c1f831",
        "colab": {
          "base_uri": "https://localhost:8080/",
          "height": 55
        }
      },
      "execution_count": 5,
      "outputs": [
        {
          "output_type": "display_data",
          "data": {
            "text/html": [
              "<style>\n",
              ".list-inline {list-style: none; margin:0; padding: 0}\n",
              ".list-inline>li {display: inline-block}\n",
              ".list-inline>li:not(:last-child)::after {content: \"\\00b7\"; padding: 0 .5ex}\n",
              "</style>\n",
              "<ol class=list-inline><li>0.026</li><li>79</li></ol>\n"
            ],
            "text/markdown": "1. 0.026\n2. 79\n\n\n",
            "text/latex": "\\begin{enumerate*}\n\\item 0.026\n\\item 79\n\\end{enumerate*}\n",
            "text/plain": [
              "[1]  0.026 79.000"
            ]
          },
          "metadata": {}
        }
      ]
    },
    {
      "cell_type": "markdown",
      "source": [
        "So, 79 people (about 2.6% of the sample) earn significantly more than the others in the dataset.\n",
        "\n",
        "All these statistics tell us that the rich people constitute a sizeable minority, distinct from the rest of the people. This class is somewhat rare, and perhaps has its own characteristics.\n",
        "\n",
        "Anyway, we would like to predict wages based on the other variables. But first, let us remove the variables $\\verb|logwage|$ (as it is simply the log of the wage), $\\verb|region|$ (as it is the same for everyone in the dataset) and $\\verb|year|$."
      ],
      "metadata": {
        "id": "1ccnf7G29hJ6"
      }
    },
    {
      "cell_type": "code",
      "source": [
        "# Let's rename the dataset to Wage_new after dropping the three columns\n",
        "Wage_new = subset(Wage, select = -c(year, region, logwage))\n",
        "head(Wage_new)"
      ],
      "metadata": {
        "id": "uZ4pD2lM_2aF",
        "outputId": "83dc4622-c40a-4fcc-c3de-db82e2afeffa",
        "colab": {
          "base_uri": "https://localhost:8080/",
          "height": 308
        }
      },
      "execution_count": 6,
      "outputs": [
        {
          "output_type": "display_data",
          "data": {
            "text/html": [
              "<table class=\"dataframe\">\n",
              "<caption>A data.frame: 6 × 8</caption>\n",
              "<thead>\n",
              "\t<tr><th></th><th scope=col>age</th><th scope=col>maritl</th><th scope=col>race</th><th scope=col>education</th><th scope=col>jobclass</th><th scope=col>health</th><th scope=col>health_ins</th><th scope=col>wage</th></tr>\n",
              "\t<tr><th></th><th scope=col>&lt;int&gt;</th><th scope=col>&lt;fct&gt;</th><th scope=col>&lt;fct&gt;</th><th scope=col>&lt;fct&gt;</th><th scope=col>&lt;fct&gt;</th><th scope=col>&lt;fct&gt;</th><th scope=col>&lt;fct&gt;</th><th scope=col>&lt;dbl&gt;</th></tr>\n",
              "</thead>\n",
              "<tbody>\n",
              "\t<tr><th scope=row>231655</th><td>18</td><td>1. Never Married</td><td>1. White</td><td><span style=white-space:pre-wrap>1. &lt; HS Grad   </span></td><td>1. Industrial </td><td><span style=white-space:pre-wrap>1. &lt;=Good     </span></td><td>2. No </td><td> 75.04315</td></tr>\n",
              "\t<tr><th scope=row>86582</th><td>24</td><td>1. Never Married</td><td>1. White</td><td>4. College Grad</td><td>2. Information</td><td>2. &gt;=Very Good</td><td>2. No </td><td> 70.47602</td></tr>\n",
              "\t<tr><th scope=row>161300</th><td>45</td><td><span style=white-space:pre-wrap>2. Married      </span></td><td>1. White</td><td>3. Some College</td><td>1. Industrial </td><td><span style=white-space:pre-wrap>1. &lt;=Good     </span></td><td>1. Yes</td><td>130.98218</td></tr>\n",
              "\t<tr><th scope=row>155159</th><td>43</td><td><span style=white-space:pre-wrap>2. Married      </span></td><td>3. Asian</td><td>4. College Grad</td><td>2. Information</td><td>2. &gt;=Very Good</td><td>1. Yes</td><td>154.68529</td></tr>\n",
              "\t<tr><th scope=row>11443</th><td>50</td><td><span style=white-space:pre-wrap>4. Divorced     </span></td><td>1. White</td><td><span style=white-space:pre-wrap>2. HS Grad     </span></td><td>2. Information</td><td><span style=white-space:pre-wrap>1. &lt;=Good     </span></td><td>1. Yes</td><td> 75.04315</td></tr>\n",
              "\t<tr><th scope=row>376662</th><td>54</td><td><span style=white-space:pre-wrap>2. Married      </span></td><td>1. White</td><td>4. College Grad</td><td>2. Information</td><td>2. &gt;=Very Good</td><td>1. Yes</td><td>127.11574</td></tr>\n",
              "</tbody>\n",
              "</table>\n"
            ],
            "text/markdown": "\nA data.frame: 6 × 8\n\n| <!--/--> | age &lt;int&gt; | maritl &lt;fct&gt; | race &lt;fct&gt; | education &lt;fct&gt; | jobclass &lt;fct&gt; | health &lt;fct&gt; | health_ins &lt;fct&gt; | wage &lt;dbl&gt; |\n|---|---|---|---|---|---|---|---|---|\n| 231655 | 18 | 1. Never Married | 1. White | 1. &lt; HS Grad    | 1. Industrial  | 1. &lt;=Good      | 2. No  |  75.04315 |\n| 86582 | 24 | 1. Never Married | 1. White | 4. College Grad | 2. Information | 2. &gt;=Very Good | 2. No  |  70.47602 |\n| 161300 | 45 | 2. Married       | 1. White | 3. Some College | 1. Industrial  | 1. &lt;=Good      | 1. Yes | 130.98218 |\n| 155159 | 43 | 2. Married       | 3. Asian | 4. College Grad | 2. Information | 2. &gt;=Very Good | 1. Yes | 154.68529 |\n| 11443 | 50 | 4. Divorced      | 1. White | 2. HS Grad      | 2. Information | 1. &lt;=Good      | 1. Yes |  75.04315 |\n| 376662 | 54 | 2. Married       | 1. White | 4. College Grad | 2. Information | 2. &gt;=Very Good | 1. Yes | 127.11574 |\n\n",
            "text/latex": "A data.frame: 6 × 8\n\\begin{tabular}{r|llllllll}\n  & age & maritl & race & education & jobclass & health & health\\_ins & wage\\\\\n  & <int> & <fct> & <fct> & <fct> & <fct> & <fct> & <fct> & <dbl>\\\\\n\\hline\n\t231655 & 18 & 1. Never Married & 1. White & 1. < HS Grad    & 1. Industrial  & 1. <=Good      & 2. No  &  75.04315\\\\\n\t86582 & 24 & 1. Never Married & 1. White & 4. College Grad & 2. Information & 2. >=Very Good & 2. No  &  70.47602\\\\\n\t161300 & 45 & 2. Married       & 1. White & 3. Some College & 1. Industrial  & 1. <=Good      & 1. Yes & 130.98218\\\\\n\t155159 & 43 & 2. Married       & 3. Asian & 4. College Grad & 2. Information & 2. >=Very Good & 1. Yes & 154.68529\\\\\n\t11443 & 50 & 4. Divorced      & 1. White & 2. HS Grad      & 2. Information & 1. <=Good      & 1. Yes &  75.04315\\\\\n\t376662 & 54 & 2. Married       & 1. White & 4. College Grad & 2. Information & 2. >=Very Good & 1. Yes & 127.11574\\\\\n\\end{tabular}\n",
            "text/plain": [
              "       age maritl           race     education       jobclass      \n",
              "231655 18  1. Never Married 1. White 1. < HS Grad    1. Industrial \n",
              "86582  24  1. Never Married 1. White 4. College Grad 2. Information\n",
              "161300 45  2. Married       1. White 3. Some College 1. Industrial \n",
              "155159 43  2. Married       3. Asian 4. College Grad 2. Information\n",
              "11443  50  4. Divorced      1. White 2. HS Grad      2. Information\n",
              "376662 54  2. Married       1. White 4. College Grad 2. Information\n",
              "       health         health_ins wage     \n",
              "231655 1. <=Good      2. No       75.04315\n",
              "86582  2. >=Very Good 2. No       70.47602\n",
              "161300 1. <=Good      1. Yes     130.98218\n",
              "155159 2. >=Very Good 1. Yes     154.68529\n",
              "11443  1. <=Good      1. Yes      75.04315\n",
              "376662 2. >=Very Good 1. Yes     127.11574"
            ]
          },
          "metadata": {}
        }
      ]
    },
    {
      "cell_type": "markdown",
      "source": [
        "Notice that all the predictors (except age) are categorical. Let's build an ordinary linear regression model to predict wage now."
      ],
      "metadata": {
        "id": "M-ZlLAVQBG0S"
      }
    },
    {
      "cell_type": "code",
      "source": [
        "# Performing linear regression\n",
        "reg_ols = lm(wage ~ ., data = Wage_new)\n",
        "summary(reg_ols)"
      ],
      "metadata": {
        "id": "WUDqwPsiBjPI",
        "outputId": "39f8a2c6-2d9e-456c-9ecc-cd1b1e6a9cfc",
        "colab": {
          "base_uri": "https://localhost:8080/",
          "height": 600
        }
      },
      "execution_count": 7,
      "outputs": [
        {
          "output_type": "display_data",
          "data": {
            "text/plain": [
              "\n",
              "Call:\n",
              "lm(formula = wage ~ ., data = Wage_new)\n",
              "\n",
              "Residuals:\n",
              "     Min       1Q   Median       3Q      Max \n",
              "-103.663  -18.706   -3.473   13.853  211.966 \n",
              "\n",
              "Coefficients:\n",
              "                            Estimate Std. Error t value Pr(>|t|)    \n",
              "(Intercept)                  65.8356     3.5407  18.594  < 2e-16 ***\n",
              "age                           0.2837     0.0623   4.554 5.47e-06 ***\n",
              "maritl2. Married             16.9253     1.7234   9.821  < 2e-16 ***\n",
              "maritl3. Widowed              0.9009     8.0206   0.112 0.910578    \n",
              "maritl4. Divorced             3.6329     2.8929   1.256 0.209287    \n",
              "maritl5. Separated           11.5439     4.8563   2.377 0.017512 *  \n",
              "race2. Black                 -4.8977     2.1505  -2.277 0.022830 *  \n",
              "race3. Asian                 -2.5041     2.6087  -0.960 0.337193    \n",
              "race4. Other                 -5.9525     5.6809  -1.048 0.294809    \n",
              "education2. HS Grad           7.8432     2.3754   3.302 0.000972 ***\n",
              "education3. Some College     18.3040     2.5265   7.245 5.49e-13 ***\n",
              "education4. College Grad     31.3257     2.5547  12.262  < 2e-16 ***\n",
              "education5. Advanced Degree  54.1677     2.8180  19.222  < 2e-16 ***\n",
              "jobclass2. Information        3.4806     1.3273   2.622 0.008775 ** \n",
              "health2. >=Very Good          6.5454     1.4244   4.595 4.51e-06 ***\n",
              "health_ins2. No             -17.4482     1.4069 -12.402  < 2e-16 ***\n",
              "---\n",
              "Signif. codes:  0 ‘***’ 0.001 ‘**’ 0.01 ‘*’ 0.05 ‘.’ 0.1 ‘ ’ 1\n",
              "\n",
              "Residual standard error: 34.09 on 2984 degrees of freedom\n",
              "Multiple R-squared:  0.336,\tAdjusted R-squared:  0.3327 \n",
              "F-statistic: 100.7 on 15 and 2984 DF,  p-value: < 2.2e-16\n"
            ]
          },
          "metadata": {}
        }
      ]
    },
    {
      "cell_type": "markdown",
      "source": [
        "Let's see how well the model has been able to fit the \"rich\" vs. the \"bulk\" class."
      ],
      "metadata": {
        "id": "Kb7CZNwAE7I2"
      }
    },
    {
      "cell_type": "code",
      "source": [
        "# Collect the indices corresponding to the \"rich\" class\n",
        "rich_indices = which(Wage_new$wage > 250)\n",
        "\n",
        "# Residuals on the rich and bulk classes\n",
        "residuals_ols = reg_ols$residuals\n",
        "residuals_ols_rich = residuals_ols[rich_indices]\n",
        "residuals_ols_bulk = residuals_ols[-rich_indices]\n",
        "\n",
        "# Mean wage predicted on the rich class\n",
        "predicted_ols_rich_mean = mean(reg_ols$fitted.values[rich_indices])\n",
        "\n",
        "# Output as data frame\n",
        "data.frame(RMSE_bulk = sqrt(mean(residuals_ols_bulk^2)),\n",
        "RMSE_rich = sqrt(mean(residuals_ols_rich^2)),\n",
        "predicted_rich_mean = predicted_ols_rich_mean,\n",
        "actual_rich_mean = mean(wage[rich_indices]))"
      ],
      "metadata": {
        "id": "cZRZ1JJ6DYNH",
        "outputId": "1aff3ae0-1d43-4e17-8ced-e22ab7b19039",
        "colab": {
          "base_uri": "https://localhost:8080/",
          "height": 151
        }
      },
      "execution_count": 8,
      "outputs": [
        {
          "output_type": "display_data",
          "data": {
            "text/html": [
              "<table class=\"dataframe\">\n",
              "<caption>A data.frame: 1 × 4</caption>\n",
              "<thead>\n",
              "\t<tr><th scope=col>RMSE_bulk</th><th scope=col>RMSE_rich</th><th scope=col>predicted_rich_mean</th><th scope=col>actual_rich_mean</th></tr>\n",
              "\t<tr><th scope=col>&lt;dbl&gt;</th><th scope=col>&lt;dbl&gt;</th><th scope=col>&lt;dbl&gt;</th><th scope=col>&lt;dbl&gt;</th></tr>\n",
              "</thead>\n",
              "<tbody>\n",
              "\t<tr><td>25.89426</td><td>138.197</td><td>141.7206</td><td>277.5325</td></tr>\n",
              "</tbody>\n",
              "</table>\n"
            ],
            "text/markdown": "\nA data.frame: 1 × 4\n\n| RMSE_bulk &lt;dbl&gt; | RMSE_rich &lt;dbl&gt; | predicted_rich_mean &lt;dbl&gt; | actual_rich_mean &lt;dbl&gt; |\n|---|---|---|---|\n| 25.89426 | 138.197 | 141.7206 | 277.5325 |\n\n",
            "text/latex": "A data.frame: 1 × 4\n\\begin{tabular}{llll}\n RMSE\\_bulk & RMSE\\_rich & predicted\\_rich\\_mean & actual\\_rich\\_mean\\\\\n <dbl> & <dbl> & <dbl> & <dbl>\\\\\n\\hline\n\t 25.89426 & 138.197 & 141.7206 & 277.5325\\\\\n\\end{tabular}\n",
            "text/plain": [
              "  RMSE_bulk RMSE_rich predicted_rich_mean actual_rich_mean\n",
              "1 25.89426  138.197   141.7206            277.5325        "
            ]
          },
          "metadata": {}
        }
      ]
    },
    {
      "cell_type": "markdown",
      "source": [
        "Notice how drastically worse the model has performed on the rich class.\n",
        "\n",
        "This is not unexpected; this is precisely due to the rarity of the rich class. The model we built tries to fit the \"bulk\" or the majority. It does not do well for the rich group which constitutes a higher quantile of $\\verb|wage|$. If we want to understand the rich community better, this general model  will not be good enough.\n",
        "\n",
        "So, what do we do? Do we simply ignore the rest of the data and fit a model restricted only to the rich class? This approach would suffer from a higher variance as it wouldn't be able to leverage shared information across the full population.\n",
        "\n",
        "Here is where quantile regression comes in. It aims to fit the higher quantiles of the dataset (and not just the mean, which ordinary linear models do). As a result, it takes into account the full dataset.\n",
        "\n",
        "Let's first see the performance of quantile regression on this dataset. It can be implemented using the $\\verb|rq|$ function in $\\verb|quantreg|$ package in R."
      ],
      "metadata": {
        "id": "uTAFkhO_Grdl"
      }
    },
    {
      "cell_type": "code",
      "source": [
        "install.packages(\"quantreg\")\n",
        "library(quantreg)\n",
        "\n",
        "# Fit quantile regression to 97.4th quantile (top 2.6%)\n",
        "reg_quant = rq(wage ~ ., tau = 0.974, data = Wage_new)\n",
        "reg_quant"
      ],
      "metadata": {
        "id": "DfmQK4k1IT4j",
        "outputId": "ac4a1faa-6514-4013-aeaf-873b68a80cc8",
        "colab": {
          "base_uri": "https://localhost:8080/",
          "height": 724
        }
      },
      "execution_count": 9,
      "outputs": [
        {
          "output_type": "stream",
          "name": "stderr",
          "text": [
            "Installing package into ‘/usr/local/lib/R/site-library’\n",
            "(as ‘lib’ is unspecified)\n",
            "\n",
            "also installing the dependencies ‘SparseM’, ‘MatrixModels’\n",
            "\n",
            "\n",
            "Loading required package: SparseM\n",
            "\n",
            "\n",
            "Attaching package: ‘SparseM’\n",
            "\n",
            "\n",
            "The following object is masked from ‘package:base’:\n",
            "\n",
            "    backsolve\n",
            "\n",
            "\n"
          ]
        },
        {
          "output_type": "display_data",
          "data": {
            "text/plain": [
              "Call:\n",
              "rq(formula = wage ~ ., tau = 0.974, data = Wage_new)\n",
              "\n",
              "Coefficients:\n",
              "                (Intercept)                         age \n",
              "                 88.6968222                   0.3662265 \n",
              "           maritl2. Married            maritl3. Widowed \n",
              "                 30.2640008                   3.1350188 \n",
              "          maritl4. Divorced          maritl5. Separated \n",
              "                 13.4242355                  19.6434331 \n",
              "               race2. Black                race3. Asian \n",
              "                 -0.8862094                  -9.2379401 \n",
              "               race4. Other         education2. HS Grad \n",
              "                  4.2609114                  13.5172467 \n",
              "   education3. Some College    education4. College Grad \n",
              "                 29.2824640                 116.8968408 \n",
              "education5. Advanced Degree      jobclass2. Information \n",
              "                134.1207849                   5.1271706 \n",
              "       health2. >=Very Good             health_ins2. No \n",
              "                 10.4350399                 -13.3799595 \n",
              "\n",
              "Degrees of freedom: 3000 total; 2984 residual"
            ]
          },
          "metadata": {}
        }
      ]
    },
    {
      "cell_type": "markdown",
      "source": [
        "We can simultaneously fit quantile regression to a grid of chosen quantiles without any extra effort. We simply add those quantiles as an array."
      ],
      "metadata": {
        "id": "-a5Ldt5pMM7v"
      }
    },
    {
      "cell_type": "code",
      "source": [
        "# Fit quantile regression to the 50th, 97.4th, 98th and 99th percentiles\n",
        "rq(wage ~ ., data = Wage_new, tau = c(0.5, 0.974, 0.98, 0.99))"
      ],
      "metadata": {
        "id": "FHSEY-8FJqsA",
        "outputId": "2806164e-a2d8-4fa9-b894-39cbaee619e8",
        "colab": {
          "base_uri": "https://localhost:8080/",
          "height": 477
        }
      },
      "execution_count": 10,
      "outputs": [
        {
          "output_type": "stream",
          "name": "stderr",
          "text": [
            "Warning message in rq.fit.br(x, y, tau = tau, ...):\n",
            "“Solution may be nonunique”\n"
          ]
        },
        {
          "output_type": "display_data",
          "data": {
            "text/plain": [
              "Call:\n",
              "rq(formula = wage ~ ., tau = c(0.5, 0.974, 0.98, 0.99), data = Wage_new)\n",
              "\n",
              "Coefficients:\n",
              "                             tau= 0.500  tau= 0.974  tau= 0.980  tau= 0.990\n",
              "(Intercept)                  66.3603204  88.6968222  89.4978924  80.1627869\n",
              "age                           0.2576069   0.3662265   0.2682472   0.9359593\n",
              "maritl2. Married             15.0390531  30.2640008  34.6684777  24.0041860\n",
              "maritl3. Widowed             11.0386323   3.1350188   2.6033084 -29.4213087\n",
              "maritl4. Divorced             5.3759808  13.4242355  16.8944832  15.2285327\n",
              "maritl5. Separated           11.5310282  19.6434331  20.4746424   5.1114545\n",
              "race2. Black                 -5.1569415  -0.8862094   5.2530606  55.6029315\n",
              "race3. Asian                 -2.3420308  -9.2379401 -11.7276892  15.6741952\n",
              "race4. Other                 -2.4400437   4.2609114  -2.2821046 -14.6082137\n",
              "education2. HS Grad           7.9675465  13.5172467  18.2005946  15.4049936\n",
              "education3. Some College     19.2333798  29.2824640  37.8658101  90.0640660\n",
              "education4. College Grad     30.8509269 116.8968408 120.3838112 122.8265577\n",
              "education5. Advanced Degree  47.8893778 134.1207849 137.1316248 127.1091953\n",
              "jobclass2. Information        1.6182576   5.1271706   6.7673708   4.8533421\n",
              "health2. >=Very Good          4.8267184  10.4350399   9.4426035  10.0208995\n",
              "health_ins2. No             -14.8045171 -13.3799595 -12.9311614   0.5988197\n",
              "\n",
              "Degrees of freedom: 3000 total; 2984 residual"
            ]
          },
          "metadata": {}
        }
      ]
    },
    {
      "cell_type": "markdown",
      "source": [
        "Observe how the top quantiles are different from the median, say. For the median person, an advanced degree seems to provide much less benefit than what it provides for the top rich. The 99th percentile wages seem to be adversely affected if the person is widowed, but the lower percentiles are positively affected in the same case.\n",
        "\n",
        "Now let us look at the coefficient estimates for the ordinary regression and quantile regression for the median."
      ],
      "metadata": {
        "id": "5stIR3ukNQIS"
      }
    },
    {
      "cell_type": "code",
      "source": [
        "reg_quant_median = rq(wage ~ ., tau = 0.5, data = Wage_new)\n",
        "\n",
        "data.frame(quantile_regression_coefs = reg_quant_median$coefficients,\n",
        "ols_coefs = reg_ols$coefficients)"
      ],
      "metadata": {
        "id": "sfLNdpZgOqQD",
        "outputId": "3397c9f0-14ec-46c3-8f51-ee6679ace72d",
        "colab": {
          "base_uri": "https://localhost:8080/",
          "height": 660
        }
      },
      "execution_count": 11,
      "outputs": [
        {
          "output_type": "stream",
          "name": "stderr",
          "text": [
            "Warning message in rq.fit.br(x, y, tau = tau, ...):\n",
            "“Solution may be nonunique”\n"
          ]
        },
        {
          "output_type": "display_data",
          "data": {
            "text/html": [
              "<table class=\"dataframe\">\n",
              "<caption>A data.frame: 16 × 2</caption>\n",
              "<thead>\n",
              "\t<tr><th></th><th scope=col>quantile_regression_coefs</th><th scope=col>ols_coefs</th></tr>\n",
              "\t<tr><th></th><th scope=col>&lt;dbl&gt;</th><th scope=col>&lt;dbl&gt;</th></tr>\n",
              "</thead>\n",
              "<tbody>\n",
              "\t<tr><th scope=row>(Intercept)</th><td> 66.3603204</td><td> 65.8356308</td></tr>\n",
              "\t<tr><th scope=row>age</th><td>  0.2576069</td><td>  0.2837375</td></tr>\n",
              "\t<tr><th scope=row>maritl2. Married</th><td> 15.0390531</td><td> 16.9252718</td></tr>\n",
              "\t<tr><th scope=row>maritl3. Widowed</th><td> 11.0386323</td><td>  0.9008732</td></tr>\n",
              "\t<tr><th scope=row>maritl4. Divorced</th><td>  5.3759808</td><td>  3.6328737</td></tr>\n",
              "\t<tr><th scope=row>maritl5. Separated</th><td> 11.5310282</td><td> 11.5439422</td></tr>\n",
              "\t<tr><th scope=row>race2. Black</th><td> -5.1569415</td><td> -4.8977143</td></tr>\n",
              "\t<tr><th scope=row>race3. Asian</th><td> -2.3420308</td><td> -2.5040783</td></tr>\n",
              "\t<tr><th scope=row>race4. Other</th><td> -2.4400437</td><td> -5.9525439</td></tr>\n",
              "\t<tr><th scope=row>education2. HS Grad</th><td>  7.9675465</td><td>  7.8431593</td></tr>\n",
              "\t<tr><th scope=row>education3. Some College</th><td> 19.2333798</td><td> 18.3039572</td></tr>\n",
              "\t<tr><th scope=row>education4. College Grad</th><td> 30.8509269</td><td> 31.3257467</td></tr>\n",
              "\t<tr><th scope=row>education5. Advanced Degree</th><td> 47.8893778</td><td> 54.1676646</td></tr>\n",
              "\t<tr><th scope=row>jobclass2. Information</th><td>  1.6182576</td><td>  3.4806123</td></tr>\n",
              "\t<tr><th scope=row>health2. &gt;=Very Good</th><td>  4.8267184</td><td>  6.5454231</td></tr>\n",
              "\t<tr><th scope=row>health_ins2. No</th><td>-14.8045171</td><td>-17.4481724</td></tr>\n",
              "</tbody>\n",
              "</table>\n"
            ],
            "text/markdown": "\nA data.frame: 16 × 2\n\n| <!--/--> | quantile_regression_coefs &lt;dbl&gt; | ols_coefs &lt;dbl&gt; |\n|---|---|---|\n| (Intercept) |  66.3603204 |  65.8356308 |\n| age |   0.2576069 |   0.2837375 |\n| maritl2. Married |  15.0390531 |  16.9252718 |\n| maritl3. Widowed |  11.0386323 |   0.9008732 |\n| maritl4. Divorced |   5.3759808 |   3.6328737 |\n| maritl5. Separated |  11.5310282 |  11.5439422 |\n| race2. Black |  -5.1569415 |  -4.8977143 |\n| race3. Asian |  -2.3420308 |  -2.5040783 |\n| race4. Other |  -2.4400437 |  -5.9525439 |\n| education2. HS Grad |   7.9675465 |   7.8431593 |\n| education3. Some College |  19.2333798 |  18.3039572 |\n| education4. College Grad |  30.8509269 |  31.3257467 |\n| education5. Advanced Degree |  47.8893778 |  54.1676646 |\n| jobclass2. Information |   1.6182576 |   3.4806123 |\n| health2. &gt;=Very Good |   4.8267184 |   6.5454231 |\n| health_ins2. No | -14.8045171 | -17.4481724 |\n\n",
            "text/latex": "A data.frame: 16 × 2\n\\begin{tabular}{r|ll}\n  & quantile\\_regression\\_coefs & ols\\_coefs\\\\\n  & <dbl> & <dbl>\\\\\n\\hline\n\t(Intercept) &  66.3603204 &  65.8356308\\\\\n\tage &   0.2576069 &   0.2837375\\\\\n\tmaritl2. Married &  15.0390531 &  16.9252718\\\\\n\tmaritl3. Widowed &  11.0386323 &   0.9008732\\\\\n\tmaritl4. Divorced &   5.3759808 &   3.6328737\\\\\n\tmaritl5. Separated &  11.5310282 &  11.5439422\\\\\n\trace2. Black &  -5.1569415 &  -4.8977143\\\\\n\trace3. Asian &  -2.3420308 &  -2.5040783\\\\\n\trace4. Other &  -2.4400437 &  -5.9525439\\\\\n\teducation2. HS Grad &   7.9675465 &   7.8431593\\\\\n\teducation3. Some College &  19.2333798 &  18.3039572\\\\\n\teducation4. College Grad &  30.8509269 &  31.3257467\\\\\n\teducation5. Advanced Degree &  47.8893778 &  54.1676646\\\\\n\tjobclass2. Information &   1.6182576 &   3.4806123\\\\\n\thealth2. >=Very Good &   4.8267184 &   6.5454231\\\\\n\thealth\\_ins2. No & -14.8045171 & -17.4481724\\\\\n\\end{tabular}\n",
            "text/plain": [
              "                            quantile_regression_coefs ols_coefs  \n",
              "(Intercept)                  66.3603204                65.8356308\n",
              "age                           0.2576069                 0.2837375\n",
              "maritl2. Married             15.0390531                16.9252718\n",
              "maritl3. Widowed             11.0386323                 0.9008732\n",
              "maritl4. Divorced             5.3759808                 3.6328737\n",
              "maritl5. Separated           11.5310282                11.5439422\n",
              "race2. Black                 -5.1569415                -4.8977143\n",
              "race3. Asian                 -2.3420308                -2.5040783\n",
              "race4. Other                 -2.4400437                -5.9525439\n",
              "education2. HS Grad           7.9675465                 7.8431593\n",
              "education3. Some College     19.2333798                18.3039572\n",
              "education4. College Grad     30.8509269                31.3257467\n",
              "education5. Advanced Degree  47.8893778                54.1676646\n",
              "jobclass2. Information        1.6182576                 3.4806123\n",
              "health2. >=Very Good          4.8267184                 6.5454231\n",
              "health_ins2. No             -14.8045171               -17.4481724"
            ]
          },
          "metadata": {}
        }
      ]
    },
    {
      "cell_type": "markdown",
      "source": [
        "The estimates are not too different, suggesting that indeed the ordinary least squares regression was explaining the \"average\" or \"median\" individual in our dataset.\n",
        "\n",
        "Now, let's see how well the quantile regression model built on the 98th percentile performs in predicting the top quantiles."
      ],
      "metadata": {
        "id": "8h9AWvLRPJTc"
      }
    },
    {
      "cell_type": "code",
      "source": [
        "# Perform quantile regression on 98th percentile\n",
        "reg_quant_top = rq(wage ~ ., tau = 0.98, data = Wage_new)\n",
        "\n",
        "# Get the residuals on the \"rich\" people and compute RMSE\n",
        "residuals_quant_rich = reg_quant_top$residuals[rich_indices]\n",
        "RMSE_quant_rich = sqrt(mean(residuals_quant_rich^2))\n",
        "\n",
        "# Output data frame to compare with old RMSE from OLS\n",
        "data.frame(RMSE_quant_rich = RMSE_quant_rich, RMSE_ols_rich = sqrt(mean(residuals_ols_rich^2)))"
      ],
      "metadata": {
        "id": "v_fpVwhOPgBs",
        "outputId": "02dec683-9498-4dbf-be76-1c333ee6499b",
        "colab": {
          "base_uri": "https://localhost:8080/",
          "height": 151
        }
      },
      "execution_count": 12,
      "outputs": [
        {
          "output_type": "display_data",
          "data": {
            "text/html": [
              "<table class=\"dataframe\">\n",
              "<caption>A data.frame: 1 × 2</caption>\n",
              "<thead>\n",
              "\t<tr><th scope=col>RMSE_quant_rich</th><th scope=col>RMSE_ols_rich</th></tr>\n",
              "\t<tr><th scope=col>&lt;dbl&gt;</th><th scope=col>&lt;dbl&gt;</th></tr>\n",
              "</thead>\n",
              "<tbody>\n",
              "\t<tr><td>49.39083</td><td>138.197</td></tr>\n",
              "</tbody>\n",
              "</table>\n"
            ],
            "text/markdown": "\nA data.frame: 1 × 2\n\n| RMSE_quant_rich &lt;dbl&gt; | RMSE_ols_rich &lt;dbl&gt; |\n|---|---|\n| 49.39083 | 138.197 |\n\n",
            "text/latex": "A data.frame: 1 × 2\n\\begin{tabular}{ll}\n RMSE\\_quant\\_rich & RMSE\\_ols\\_rich\\\\\n <dbl> & <dbl>\\\\\n\\hline\n\t 49.39083 & 138.197\\\\\n\\end{tabular}\n",
            "text/plain": [
              "  RMSE_quant_rich RMSE_ols_rich\n",
              "1 49.39083        138.197      "
            ]
          },
          "metadata": {}
        }
      ]
    },
    {
      "cell_type": "markdown",
      "source": [
        "Observe how the RMSE has gone down significantly. We can also compare the average prediction."
      ],
      "metadata": {
        "id": "7lmH8cxJQ6Iv"
      }
    },
    {
      "cell_type": "code",
      "source": [
        "data.frame(predicted_quant_rich_mean = mean(reg_quant_top$fitted.values[rich_indices]),\n",
        "predicted_old_rich_mean = predicted_ols_rich_mean,\n",
        "true_old_rich_mean = mean(wage[rich_indices]))"
      ],
      "metadata": {
        "id": "sPBw2rUDRq8p",
        "outputId": "ef3dc321-d188-40e0-9728-b96fc7f3c5b4",
        "colab": {
          "base_uri": "https://localhost:8080/",
          "height": 151
        }
      },
      "execution_count": 13,
      "outputs": [
        {
          "output_type": "display_data",
          "data": {
            "text/html": [
              "<table class=\"dataframe\">\n",
              "<caption>A data.frame: 1 × 3</caption>\n",
              "<thead>\n",
              "\t<tr><th scope=col>predicted_quant_rich_mean</th><th scope=col>predicted_old_rich_mean</th><th scope=col>true_old_rich_mean</th></tr>\n",
              "\t<tr><th scope=col>&lt;dbl&gt;</th><th scope=col>&lt;dbl&gt;</th><th scope=col>&lt;dbl&gt;</th></tr>\n",
              "</thead>\n",
              "<tbody>\n",
              "\t<tr><td>261.1409</td><td>141.7206</td><td>277.5325</td></tr>\n",
              "</tbody>\n",
              "</table>\n"
            ],
            "text/markdown": "\nA data.frame: 1 × 3\n\n| predicted_quant_rich_mean &lt;dbl&gt; | predicted_old_rich_mean &lt;dbl&gt; | true_old_rich_mean &lt;dbl&gt; |\n|---|---|---|\n| 261.1409 | 141.7206 | 277.5325 |\n\n",
            "text/latex": "A data.frame: 1 × 3\n\\begin{tabular}{lll}\n predicted\\_quant\\_rich\\_mean & predicted\\_old\\_rich\\_mean & true\\_old\\_rich\\_mean\\\\\n <dbl> & <dbl> & <dbl>\\\\\n\\hline\n\t 261.1409 & 141.7206 & 277.5325\\\\\n\\end{tabular}\n",
            "text/plain": [
              "  predicted_quant_rich_mean predicted_old_rich_mean true_old_rich_mean\n",
              "1 261.1409                  141.7206                277.5325          "
            ]
          },
          "metadata": {}
        }
      ]
    },
    {
      "cell_type": "markdown",
      "source": [
        "Notice the improvement here as well.\n",
        "\n",
        "It is important to remember though that the results of quantile regression will typically depend on the quantiles/ percentiles we choose to fit. If we are interested in modeling the 98th percentile, we would use the corresponding quantile regression, which may not give a good answer at another percentile, say, 50%.\n",
        "\n",
        "The whole idea behind quantile regression is that one single global regression model describing the mean behavior of data may not be enough in many applications. A better idea is to model instead the various quantiles. Different quantiles may depend differently on the predictors, and this stratification provides useful information in decision making process."
      ],
      "metadata": {
        "id": "LkyjeJ-oR9I8"
      }
    },
    {
      "cell_type": "markdown",
      "source": [
        "## Technical words..."
      ],
      "metadata": {
        "id": "sfSLWsS1TLxP"
      }
    },
    {
      "cell_type": "markdown",
      "source": [
        "Now that we have talked about quantile regression through a data example, let's say a word or two about what it is doing, mathematically.\n",
        "\n",
        "Ordinary linear regression minimizes the sum of squared errors: $\\sum_{i=1}^n (y_i - x_i'\\beta)^2$. The loss involved is the squared error loss.\n",
        "\n",
        "Quantile regression uses a different loss function - the *check* loss. One can show that minimizing the check loss for a given percentile gives the corresponding quantile."
      ],
      "metadata": {
        "id": "FBG8ICn7TOTD"
      }
    }
  ]
}