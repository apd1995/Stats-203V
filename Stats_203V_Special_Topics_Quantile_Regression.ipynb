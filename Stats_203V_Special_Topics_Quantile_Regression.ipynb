{
  "nbformat": 4,
  "nbformat_minor": 0,
  "metadata": {
    "colab": {
      "provenance": [],
      "authorship_tag": "ABX9TyOxng6rdxgnMErwEA5rrUFB",
      "include_colab_link": true
    },
    "kernelspec": {
      "name": "ir",
      "display_name": "R"
    },
    "language_info": {
      "name": "R"
    }
  },
  "cells": [
    {
      "cell_type": "markdown",
      "metadata": {
        "id": "view-in-github",
        "colab_type": "text"
      },
      "source": [
        "<a href=\"https://colab.research.google.com/github/apd1995/Stats-203V/blob/branch_1/Stats_203V_Special_Topics_Quantile_Regression.ipynb\" target=\"_parent\"><img src=\"https://colab.research.google.com/assets/colab-badge.svg\" alt=\"Open In Colab\"/></a>"
      ]
    },
    {
      "cell_type": "markdown",
      "source": [
        "These are notes created by Apratim Dey while he was an instructor of the course Stats 203V on Linear Models and Regression Analysis in Summer, 2023, at Stanford University. If these notes are helpful to you, please cite them appropriately. For any feedback, please open an issue on GitHub.\n",
        "\n"
      ],
      "metadata": {
        "id": "o1D8Hi4UAefQ"
      }
    },
    {
      "cell_type": "markdown",
      "source": [
        "# Quantile Regression\n",
        "\n"
      ],
      "metadata": {
        "id": "u3RbgCBQDVYm"
      }
    },
    {
      "cell_type": "markdown",
      "source": [
        "Let us start with the Wage dataset available in the ISLR package in R. Run the following code chunk to get the dataset up on your working environment and get a sneak peek into the data."
      ],
      "metadata": {
        "id": "6Sew6xFjHNlU"
      }
    },
    {
      "cell_type": "code",
      "execution_count": null,
      "metadata": {
        "id": "EBUts-J37zcM"
      },
      "outputs": [],
      "source": [
        "install.packages('ISLR')\n",
        "library(ISLR)\n",
        "data(\"Wage\")\n",
        "\n",
        "# Preview the dataset\n",
        "head(Wage)"
      ]
    },
    {
      "cell_type": "markdown",
      "source": [
        "The dataset and variable names are self explanatory. As you can probably guess by the name of the dataset, the goal will be to predict $\\verb|wage|$ (column 11) based on the other variables. And then one can ask relevant questions, such as, whether age has a significant impact on salary, or whether having a college degree really helps.\n",
        "\n",
        "But first, let's look at the variable $\\verb|wage|$.\n"
      ],
      "metadata": {
        "id": "n0AGjyOx2ja0"
      }
    },
    {
      "cell_type": "code",
      "source": [
        "wage = Wage$wage\n",
        "\n",
        "# Plot histogram\n",
        "hist(wage, breaks = 50, xlab = \"wage\", main = \"Histogram of wage\")"
      ],
      "metadata": {
        "id": "Fkw4uk3L3k4b"
      },
      "execution_count": null,
      "outputs": []
    },
    {
      "cell_type": "markdown",
      "source": [
        "We notice something interesting (and typical about wages). While the major chunk of people in the dataset seem to be earning wages below 150, there are a few (rich!) people earning above 250.\n",
        "\n",
        "Let's do a density plot of the data, which will clarify this further."
      ],
      "metadata": {
        "id": "lRSCQdNG3jlR"
      }
    },
    {
      "cell_type": "code",
      "source": [
        "# Plot density of wage\n",
        "plot(density(wage))"
      ],
      "metadata": {
        "id": "X_1hE4rw6JIS"
      },
      "execution_count": null,
      "outputs": []
    },
    {
      "cell_type": "markdown",
      "source": [
        "The $\\verb|wage|$ values have a long tail, and we are looking at a real example of positively skewed data! The following boxplot also certifies this."
      ],
      "metadata": {
        "id": "ZjPFLdH96jFU"
      }
    },
    {
      "cell_type": "code",
      "source": [
        "# Box and whisker plot of wage\n",
        "boxplot(wage, pch = 19)"
      ],
      "metadata": {
        "id": "pWkFXnzn60GN"
      },
      "execution_count": null,
      "outputs": []
    },
    {
      "cell_type": "markdown",
      "source": [
        "Let's see what fraction and number of people earn more than 250."
      ],
      "metadata": {
        "id": "PplYbwNO7y1f"
      }
    },
    {
      "cell_type": "code",
      "source": [
        "rich_frac = mean(wage > 250)\n",
        "rich_count = sum(wage > 250)\n",
        "c(round(rich_frac, 3), rich_count)"
      ],
      "metadata": {
        "id": "uWXnlCQV77ia"
      },
      "execution_count": null,
      "outputs": []
    },
    {
      "cell_type": "markdown",
      "source": [
        "So, 79 people (about 2.6% of the sample) earn significantly more than the others in the dataset.\n",
        "\n",
        "All these statistics tell us that the rich people constitute a sizeable minority, distinct from the rest of the people. This class is somewhat rare, and perhaps has its own characteristics.\n",
        "\n",
        "Anyway, we would like to predict wages based on the other variables. But first, let us remove the variables $\\verb|logwage|$ (as it is simply the log of the wage), $\\verb|region|$ (as it is the same for everyone in the dataset) and $\\verb|year|$."
      ],
      "metadata": {
        "id": "1ccnf7G29hJ6"
      }
    },
    {
      "cell_type": "code",
      "source": [
        "# Let's rename the dataset to Wage_new after dropping the three columns\n",
        "Wage_new = subset(Wage, select = -c(year, region, logwage))\n",
        "head(Wage_new)"
      ],
      "metadata": {
        "id": "uZ4pD2lM_2aF"
      },
      "execution_count": null,
      "outputs": []
    },
    {
      "cell_type": "markdown",
      "source": [
        "Notice that all the predictors (except age) are categorical. Let's build an ordinary linear regression model to predict wage now."
      ],
      "metadata": {
        "id": "M-ZlLAVQBG0S"
      }
    },
    {
      "cell_type": "code",
      "source": [
        "# Performing linear regression\n",
        "reg_ols = lm(wage ~ ., data = Wage_new)\n",
        "summary(reg_ols)"
      ],
      "metadata": {
        "id": "WUDqwPsiBjPI"
      },
      "execution_count": null,
      "outputs": []
    },
    {
      "cell_type": "markdown",
      "source": [
        "Let's see how well the model has been able to fit the \"rich\" vs. the \"bulk\" class."
      ],
      "metadata": {
        "id": "Kb7CZNwAE7I2"
      }
    },
    {
      "cell_type": "code",
      "source": [
        "# Collect the indices corresponding to the \"rich\" class\n",
        "rich_indices = which(Wage_new$wage > 250)\n",
        "\n",
        "# Residuals on the rich and bulk classes\n",
        "residuals_ols = reg_ols$residuals\n",
        "residuals_ols_rich = residuals_ols[rich_indices]\n",
        "residuals_ols_bulk = residuals_ols[-rich_indices]\n",
        "\n",
        "# Mean wage predicted on the rich class\n",
        "predicted_ols_rich_mean = mean(reg_ols$fitted.values[rich_indices])\n",
        "\n",
        "# Output as data frame\n",
        "data.frame(RMSE_bulk = sqrt(mean(residuals_ols_bulk^2)),\n",
        "RMSE_rich = sqrt(mean(residuals_ols_rich^2)),\n",
        "predicted_rich_mean = predicted_ols_rich_mean,\n",
        "actual_rich_mean = mean(wage[rich_indices]))"
      ],
      "metadata": {
        "id": "cZRZ1JJ6DYNH"
      },
      "execution_count": null,
      "outputs": []
    },
    {
      "cell_type": "markdown",
      "source": [
        "Notice how drastically worse the model has performed on the rich class.\n",
        "\n",
        "This is not unexpected; this is precisely due to the rarity of the rich class. The model we built tries to fit the \"bulk\" or the majority. It does not do well for the rich group which constitutes a higher quantile of $\\verb|wage|$. If we want to understand the rich community better, this general model  will not be good enough.\n",
        "\n",
        "So, what do we do? Do we simply ignore the rest of the data and fit a model restricted only to the rich class? This approach would suffer from a higher variance as it wouldn't be able to leverage shared information across the full population.\n",
        "\n",
        "Here is where quantile regression comes in. It aims to fit the higher quantiles of the dataset (and not just the mean, which ordinary linear models do). As a result, it takes into account the full dataset.\n",
        "\n",
        "Let's first see the performance of quantile regression on this dataset. It can be implemented using the $\\verb|rq|$ function in $\\verb|quantreg|$ package in R."
      ],
      "metadata": {
        "id": "uTAFkhO_Grdl"
      }
    },
    {
      "cell_type": "code",
      "source": [
        "install.packages(\"quantreg\")\n",
        "library(quantreg)\n",
        "\n",
        "# Fit quantile regression to 97.4th quantile (top 2.6%)\n",
        "reg_quant = rq(wage ~ ., tau = 0.974, data = Wage_new)\n",
        "reg_quant"
      ],
      "metadata": {
        "id": "DfmQK4k1IT4j"
      },
      "execution_count": null,
      "outputs": []
    },
    {
      "cell_type": "markdown",
      "source": [
        "We can simultaneously fit quantile regression to a grid of chosen quantiles without any extra effort. We simply add those quantiles as an array."
      ],
      "metadata": {
        "id": "-a5Ldt5pMM7v"
      }
    },
    {
      "cell_type": "code",
      "source": [
        "# Fit quantile regression to the 50th, 97.4th, 98th and 99th percentiles\n",
        "rq(wage ~ ., data = Wage_new, tau = c(0.5, 0.974, 0.98, 0.99))"
      ],
      "metadata": {
        "id": "FHSEY-8FJqsA"
      },
      "execution_count": null,
      "outputs": []
    },
    {
      "cell_type": "markdown",
      "source": [
        "Observe how the top quantiles are different from the median, say. For the median person, an advanced degree seems to provide much less benefit than what it provides for the top rich. The 99th percentile wages seem to be adversely affected if the person is widowed, but the lower percentiles are positively affected in the same case.\n",
        "\n",
        "Now let us look at the coefficient estimates for the ordinary regression and quantile regression for the median."
      ],
      "metadata": {
        "id": "5stIR3ukNQIS"
      }
    },
    {
      "cell_type": "code",
      "source": [
        "reg_quant_median = rq(wage ~ ., tau = 0.5, data = Wage_new)\n",
        "\n",
        "data.frame(quantile_regression_coefs = reg_quant_median$coefficients,\n",
        "ols_coefs = reg_ols$coefficients)"
      ],
      "metadata": {
        "id": "sfLNdpZgOqQD"
      },
      "execution_count": null,
      "outputs": []
    },
    {
      "cell_type": "markdown",
      "source": [
        "The estimates are not too different, suggesting that indeed the ordinary least squares regression was explaining the \"average\" or \"median\" individual in our dataset.\n",
        "\n",
        "Now, let's see how well the quantile regression model built on the 98th percentile performs in predicting the top quantiles."
      ],
      "metadata": {
        "id": "8h9AWvLRPJTc"
      }
    },
    {
      "cell_type": "code",
      "source": [
        "# Perform quantile regression on 98th percentile\n",
        "reg_quant_top = rq(wage ~ ., tau = 0.98, data = Wage_new)\n",
        "\n",
        "# Get the residuals on the \"rich\" people and compute RMSE\n",
        "residuals_quant_rich = reg_quant_top$residuals[rich_indices]\n",
        "RMSE_quant_rich = sqrt(mean(residuals_quant_rich^2))\n",
        "\n",
        "# Output data frame to compare with old RMSE from OLS\n",
        "data.frame(RMSE_quant_rich = RMSE_quant_rich, RMSE_ols_rich = sqrt(mean(residuals_ols_rich^2)))"
      ],
      "metadata": {
        "id": "v_fpVwhOPgBs"
      },
      "execution_count": null,
      "outputs": []
    },
    {
      "cell_type": "markdown",
      "source": [
        "Observe how the RMSE has gone down significantly. We can also compare the average prediction."
      ],
      "metadata": {
        "id": "7lmH8cxJQ6Iv"
      }
    },
    {
      "cell_type": "code",
      "source": [
        "data.frame(predicted_quant_rich_mean = mean(reg_quant_top$fitted.values[rich_indices]),\n",
        "predicted_old_rich_mean = predicted_ols_rich_mean,\n",
        "true_old_rich_mean = mean(wage[rich_indices]))"
      ],
      "metadata": {
        "id": "sPBw2rUDRq8p"
      },
      "execution_count": null,
      "outputs": []
    },
    {
      "cell_type": "markdown",
      "source": [
        "Notice the improvement here as well.\n",
        "\n",
        "It is important to remember though that the results of quantile regression will typically depend on the quantiles/ percentiles we choose to fit. If we are interested in modeling the 98th percentile, we would use the corresponding quantile regression, which may not give a good answer at another percentile, say, 50%.\n",
        "\n",
        "The whole idea behind quantile regression is that one single global regression model describing the mean behavior of data may not be enough in many applications. A better idea is to model instead the various quantiles. Different quantiles may depend differently on the predictors, and this stratification provides useful information in decision making process."
      ],
      "metadata": {
        "id": "LkyjeJ-oR9I8"
      }
    },
    {
      "cell_type": "markdown",
      "source": [
        "## Technical words..."
      ],
      "metadata": {
        "id": "sfSLWsS1TLxP"
      }
    },
    {
      "cell_type": "markdown",
      "source": [
        "Now that we have talked about quantile regression through a data example, let's say a word or two about what it is doing, mathematically.\n",
        "\n",
        "Ordinary linear regression minimizes the sum of squared errors: $\\sum_{i=1}^n (y_i - x_i'\\beta)^2$. The loss involved is the squared error loss.\n",
        "\n",
        "Quantile regression uses a different loss function - the *check* loss. One can show that minimizing the check loss for a given percentile gives the corresponding quantile."
      ],
      "metadata": {
        "id": "FBG8ICn7TOTD"
      }
    }
  ]
}